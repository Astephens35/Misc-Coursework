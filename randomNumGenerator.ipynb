{
 "cells": [
  {
   "cell_type": "markdown",
   "metadata": {
    "collapsed": true
   },
   "source": [
    "## Creating random number generator: LCGs"
   ]
  },
  {
   "cell_type": "markdown",
   "metadata": {},
   "source": [
    "\"Illustrate the problem of LCGs projecting into lower-dimensional subspaces by considering a generator with a = 23, c = 0, and modulus = 97. Do two plots of $U_{k}$ vs. $U_{k−1}$,\n",
    "first showing only 30 points and then showing 96 points. What do these two plots illustrate about the dangers of flawed generators? Do they suggest a possible way of using generators in practice?\""
   ]
  },
  {
   "cell_type": "code",
   "execution_count": 1,
   "metadata": {
    "collapsed": true
   },
   "outputs": [],
   "source": [
    "# Declare variables:\n",
    "a = 23\n",
    "c = 0\n",
    "m = 97\n",
    "# playing around with other numbers below:\n",
    "# a = 5\n",
    "# c = 3\n",
    "# m = 3565"
   ]
  },
  {
   "cell_type": "code",
   "execution_count": 2,
   "metadata": {
    "collapsed": true
   },
   "outputs": [],
   "source": [
    "def Xk(n):\n",
    "    #initialize X0\n",
    "    if n == 0:\n",
    "        x = 1 # X0 must be between 0 and m; pick 1 arbitrarily\n",
    "    else:\n",
    "        x = (a*Xk(n-1) + c)%m\n",
    "    return x\n",
    "\n",
    "def Uk(Xk):\n",
    "    return Xk/m"
   ]
  },
  {
   "cell_type": "code",
   "execution_count": 3,
   "metadata": {
    "collapsed": true
   },
   "outputs": [],
   "source": [
    "r = 30\n",
    "lstUk = []\n",
    "lstUkMinus1 = []\n",
    "for i in range(1,r+1):\n",
    "    lstUk.append(Uk(Xk(i+1)))\n",
    "    lstUkMinus1.append(Uk(Xk(i)))"
   ]
  },
  {
   "cell_type": "code",
   "execution_count": 4,
   "metadata": {},
   "outputs": [
    {
     "data": {
      "image/png": "[encoded data removed]",
      "text/plain": [
       "<matplotlib.figure.Figure at 0x112e53ef0>"
      ]
     },
     "metadata": {},
     "output_type": "display_data"
    }
   ],
   "source": [
    "import matplotlib.pyplot as plt\n",
    "plt.scatter(lstUk,lstUkMinus1)\n",
    "plt.show()"
   ]
  },
  {
   "cell_type": "code",
   "execution_count": 5,
   "metadata": {},
   "outputs": [
    {
     "data": {
      "image/png": "[encoded data removed]",
      "text/plain": [
       "<matplotlib.figure.Figure at 0x11d74c240>"
      ]
     },
     "metadata": {},
     "output_type": "display_data"
    }
   ],
   "source": [
    "r = 96\n",
    "lstUk = []\n",
    "lstUkMinus1 = []\n",
    "for i in range(1,r+1):\n",
    "    lstUk.append(Uk(Xk(i+1)))\n",
    "    lstUkMinus1.append(Uk(Xk(i)))\n",
    "    \n",
    "plt.scatter(lstUk,lstUkMinus1)\n",
    "plt.show()"
   ]
  },
  {
   "cell_type": "markdown",
   "metadata": {},
   "source": [
    "\"What do these two plots illustrate about the dangers of flawed generators?\"\n",
    "- These plots show that there is are several easily-defined relationships between $U_{k}$ and $U_{k-1}$, meaning if we know the value of one of the random numbers, we can predict that the next or the previous random number falls along one of the lines you can see in the graph. If these 8 lines of data points are the only ones, then someone has a 1 in 8 chance of predicting the exact random number given they have enough prior data to solve for regression coefficients.\n",
    "- Specifically, it violates the \"Criteria for Good RNGs\" in that it does not satisfy the following: \"Be cryptographically strong to external observer: unable to predict next value from past values\"\n",
    "\n",
    "\"Do they suggest a possible way of using generators in practice?\"\n",
    "- One should not use the full period of the generator, as seen when r = 30. The values look more random than when you look at the entire period."
   ]
  },
  {
   "cell_type": "code",
   "execution_count": null,
   "metadata": {
    "collapsed": true
   },
   "outputs": [],
   "source": []
  }
 ],
 "metadata": {
  "kernelspec": {
   "display_name": "Python 3",
   "language": "python",
   "name": "python3"
  },
  "language_info": {
   "codemirror_mode": {
    "name": "ipython",
    "version": 3
   },
   "file_extension": ".py",
   "mimetype": "text/x-python",
   "name": "python",
   "nbconvert_exporter": "python",
   "pygments_lexer": "ipython3",
   "version": "3.6.3"
  }
 },
 "nbformat": 4,
 "nbformat_minor": 2
}
