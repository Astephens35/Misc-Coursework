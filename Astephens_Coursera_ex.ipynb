{
 "cells": [
  {
   "cell_type": "markdown",
   "metadata": {},
   "source": [
    "---\n",
    "\n",
    "_You are currently looking at **version 1.1** of this notebook. To download notebooks and datafiles, as well as get help on Jupyter notebooks in the Coursera platform, visit the [Jupyter Notebook FAQ](https://www.coursera.org/learn/python-data-analysis/resources/0dhYG) course resource._\n",
    "\n",
    "---"
   ]
  },
  {
   "cell_type": "code",
   "execution_count": 1,
   "metadata": {
    "collapsed": true
   },
   "outputs": [],
   "source": [
    "import pandas as pd\n",
    "import numpy as np\n",
    "from scipy.stats import ttest_ind"
   ]
  },
  {
   "cell_type": "markdown",
   "metadata": {},
   "source": [
    "# Assignment 4 - Hypothesis Testing\n",
    "This assignment requires more individual learning than previous assignments - you are encouraged to check out the [pandas documentation](http://pandas.pydata.org/pandas-docs/stable/) to find functions or methods you might not have used yet, or ask questions on [Stack Overflow](http://stackoverflow.com/) and tag them as pandas and python related. And of course, the discussion forums are open for interaction with your peers and the course staff.\n",
    "\n",
    "Definitions:\n",
    "* A _quarter_ is a specific three month period, Q1 is January through March, Q2 is April through June, Q3 is July through September, Q4 is October through December.\n",
    "* A _recession_ is defined as starting with two consecutive quarters of GDP decline, and ending with two consecutive quarters of GDP growth.\n",
    "* A _recession bottom_ is the quarter within a recession which had the lowest GDP.\n",
    "* A _university town_ is a city which has a high percentage of university students compared to the total population of the city.\n",
    "\n",
    "**Hypothesis**: University towns have their mean housing prices less effected by recessions. Run a t-test to compare the ratio of the mean price of houses in university towns the quarter before the recession starts compared to the recession bottom. (`price_ratio=quarter_before_recession/recession_bottom`)\n",
    "\n",
    "The following data files are available for this assignment:\n",
    "* From the [Zillow research data site](http://www.zillow.com/research/data/) there is housing data for the United States. In particular the datafile for [all homes at a city level](http://files.zillowstatic.com/research/public/City/City_Zhvi_AllHomes.csv), ```City_Zhvi_AllHomes.csv```, has median home sale prices at a fine grained level.\n",
    "* From the Wikipedia page on college towns is a list of [university towns in the United States](https://en.wikipedia.org/wiki/List_of_college_towns#College_towns_in_the_United_States) which has been copy and pasted into the file ```university_towns.txt```.\n",
    "* From Bureau of Economic Analysis, US Department of Commerce, the [GDP over time](http://www.bea.gov/national/index.htm#gdp) of the United States in current dollars (use the chained value in 2009 dollars), in quarterly intervals, in the file ```gdplev.xls```. For this assignment, only look at GDP data from the first quarter of 2000 onward.\n",
    "\n",
    "Each function in this assignment below is worth 10%, with the exception of ```run_ttest()```, which is worth 50%."
   ]
  },
  {
   "cell_type": "code",
   "execution_count": 2,
   "metadata": {
    "collapsed": true
   },
   "outputs": [],
   "source": [
    "# Use this dictionary to map state names to two letter acronyms\n",
    "states = {'OH': 'Ohio', 'KY': 'Kentucky', 'AS': 'American Samoa', 'NV': 'Nevada', 'WY': 'Wyoming', 'NA': 'National', 'AL': 'Alabama', 'MD': 'Maryland', 'AK': 'Alaska', 'UT': 'Utah', 'OR': 'Oregon', 'MT': 'Montana', 'IL': 'Illinois', 'TN': 'Tennessee', 'DC': 'District of Columbia', 'VT': 'Vermont', 'ID': 'Idaho', 'AR': 'Arkansas', 'ME': 'Maine', 'WA': 'Washington', 'HI': 'Hawaii', 'WI': 'Wisconsin', 'MI': 'Michigan', 'IN': 'Indiana', 'NJ': 'New Jersey', 'AZ': 'Arizona', 'GU': 'Guam', 'MS': 'Mississippi', 'PR': 'Puerto Rico', 'NC': 'North Carolina', 'TX': 'Texas', 'SD': 'South Dakota', 'MP': 'Northern Mariana Islands', 'IA': 'Iowa', 'MO': 'Missouri', 'CT': 'Connecticut', 'WV': 'West Virginia', 'SC': 'South Carolina', 'LA': 'Louisiana', 'KS': 'Kansas', 'NY': 'New York', 'NE': 'Nebraska', 'OK': 'Oklahoma', 'FL': 'Florida', 'CA': 'California', 'CO': 'Colorado', 'PA': 'Pennsylvania', 'DE': 'Delaware', 'NM': 'New Mexico', 'RI': 'Rhode Island', 'MN': 'Minnesota', 'VI': 'Virgin Islands', 'NH': 'New Hampshire', 'MA': 'Massachusetts', 'GA': 'Georgia', 'ND': 'North Dakota', 'VA': 'Virginia'}"
   ]
  },
  {
   "cell_type": "code",
   "execution_count": 3,
   "metadata": {
    "scrolled": true,
    "umich_part_id": "021",
    "umich_partlist_id": "004"
   },
   "outputs": [
    {
     "ename": "FileNotFoundError",
     "evalue": "[Errno 2] No such file or directory: 'university_towns.txt'",
     "output_type": "error",
     "traceback": [
      "\u001b[0;31m---------------------------------------------------------------------------\u001b[0m",
      "\u001b[0;31mFileNotFoundError\u001b[0m                         Traceback (most recent call last)",
      "\u001b[0;32m<ipython-input-3-d770ec4e9b57>\u001b[0m in \u001b[0;36m<module>\u001b[0;34m()\u001b[0m\n\u001b[1;32m     65\u001b[0m     \u001b[0;32mreturn\u001b[0m \u001b[0mdf\u001b[0m\u001b[0;31m#statelist#unidf[unidf['isstate'] == True]#df#unidf#len(states2)#df\u001b[0m\u001b[0;34m\u001b[0m\u001b[0m\n\u001b[1;32m     66\u001b[0m \u001b[0;34m\u001b[0m\u001b[0m\n\u001b[0;32m---> 67\u001b[0;31m \u001b[0mget_list_of_university_towns\u001b[0m\u001b[0;34m(\u001b[0m\u001b[0;34m)\u001b[0m\u001b[0;34m\u001b[0m\u001b[0m\n\u001b[0m",
      "\u001b[0;32m<ipython-input-3-d770ec4e9b57>\u001b[0m in \u001b[0;36mget_list_of_university_towns\u001b[0;34m()\u001b[0m\n\u001b[1;32m     13\u001b[0m \u001b[0;34m\u001b[0m\u001b[0m\n\u001b[1;32m     14\u001b[0m     \u001b[0;31m#load the university towns\u001b[0m\u001b[0;34m\u001b[0m\u001b[0;34m\u001b[0m\u001b[0m\n\u001b[0;32m---> 15\u001b[0;31m     \u001b[0muni_towns\u001b[0m \u001b[0;34m=\u001b[0m \u001b[0mlist\u001b[0m\u001b[0;34m(\u001b[0m\u001b[0mopen\u001b[0m\u001b[0;34m(\u001b[0m\u001b[0;34m'university_towns.txt'\u001b[0m\u001b[0;34m,\u001b[0m\u001b[0;34m'r'\u001b[0m\u001b[0;34m)\u001b[0m\u001b[0;34m)\u001b[0m\u001b[0;34m\u001b[0m\u001b[0m\n\u001b[0m\u001b[1;32m     16\u001b[0m \u001b[0;34m\u001b[0m\u001b[0m\n\u001b[1;32m     17\u001b[0m     \u001b[0;31m#get rid of university names and extra stuff\u001b[0m\u001b[0;34m\u001b[0m\u001b[0;34m\u001b[0m\u001b[0m\n",
      "\u001b[0;31mFileNotFoundError\u001b[0m: [Errno 2] No such file or directory: 'university_towns.txt'"
     ]
    }
   ],
   "source": [
    "def get_list_of_university_towns():\n",
    "    import numpy as np\n",
    "    '''Returns a DataFrame of towns and the states they are in from the \n",
    "    university_towns.txt list. The format of the DataFrame should be:\n",
    "    DataFrame( [ [\"Michigan\", \"Ann Arbor\"], [\"Michigan\", \"Yipsilanti\"] ], \n",
    "    columns=[\"State\", \"RegionName\"]  )\n",
    "    \n",
    "    The following cleaning needs to be done:\n",
    "\n",
    "    1. For \"State\", removing characters from \"[\" to the end.\n",
    "    2. For \"RegionName\", when applicable, removing every character from \" (\" to the end.\n",
    "    3. Depending on how you read the data, you may need to remove newline character '\\n'. '''\n",
    "    \n",
    "    #load the university towns\n",
    "    uni_towns = list(open('university_towns.txt','r'))\n",
    "   \n",
    "    #get rid of university names and extra stuff\n",
    "    \n",
    "    lst = []\n",
    "    import re\n",
    "    delimiters = \" (\", \"\\n\",\":\"\n",
    "    regexPattern = '|'.join(map(re.escape, delimiters))\n",
    "    for i in uni_towns:\n",
    "        k = re.split(regexPattern,i)[0]\n",
    "        lst.append(k)\n",
    "\n",
    "    delimiters2 = \" [\", '['\n",
    "    regexPattern2 = '|'.join(map(re.escape, delimiters2))\n",
    "    \n",
    "    states2 = []\n",
    "    for i in lst:\n",
    "        if i.find('[edit]') > -1:\n",
    "            #print(i)\n",
    "            k = re.split(regexPattern2,i)[0]\n",
    "            states2.append(k)\n",
    "    lst2 = []\n",
    "    for i in lst:\n",
    "        k = re.split(regexPattern2,i)[0]\n",
    "        lst2.append(k)\n",
    "            \n",
    "    statesdf = pd.DataFrame(states2)\n",
    "\n",
    "    \n",
    "    statelist = []\n",
    "    regionlist = []\n",
    "    \n",
    "                    \n",
    "    for i in np.arange(len(lst)):\n",
    "        if lst[i].find('[edit]') > -1:\n",
    "            j=1\n",
    "            while lst[i+j].find('[edit]') == -1:\n",
    "                k = re.split(regexPattern2,lst[i])[0]\n",
    "                \n",
    "                regionlist.append(lst[i + j])\n",
    "                statelist.append(k)\n",
    "                if i+j < len(lst)-1:\n",
    "                    j+=1\n",
    "                else:\n",
    "                    break\n",
    "                \n",
    "    df = pd.DataFrame(statelist,regionlist)\n",
    "    df.reset_index(inplace=True)\n",
    "    df.columns = ['RegionName','State']\n",
    "    df = df[['State','RegionName']]\n",
    "    return df#statelist#unidf[unidf['isstate'] == True]#df#unidf#len(states2)#df\n",
    "\n",
    "get_list_of_university_towns()"
   ]
  },
  {
   "cell_type": "code",
   "execution_count": null,
   "metadata": {
    "umich_part_id": "022",
    "umich_partlist_id": "004"
   },
   "outputs": [],
   "source": [
    "def get_recession_start():\n",
    "    '''Returns the year and quarter of the recession start time as a \n",
    "    string value in a format such as 2005q3'''\n",
    "    gdp = pd.read_excel('gdplev.xls',skiprows = 7)\n",
    "        #find index : gdp[gdp['Unnamed: 4'] == '2000q1']\n",
    "    gdp=gdp[gdp.index >= 212]\n",
    "    gdp = gdp[['Unnamed: 4','Unnamed: 5','Unnamed: 6']]\n",
    "    gdp.columns = ['quarter','GDP_billions_current','GDP_billions_chained2009' ]\n",
    "    gdp.reset_index(inplace = True, drop = True)\n",
    "    # A quarter is a specific three month period, Q1 is January through March, Q2 is April through June, Q3 is July through September, Q4 is October through December.\n",
    "    # A recession is defined as starting with two consecutive quarters of GDP decline, and ending with two consecutive quarters of GDP growth.\n",
    "    # A recession bottom is the quarter within a recession which had the lowest GDP.\n",
    "    lst = []\n",
    "    for i in np.arange(0,len(gdp) - 2):\n",
    "        if (gdp.at[i, 'GDP_billions_chained2009'] > gdp.at[i +1, 'GDP_billions_chained2009']) & (gdp.at[i + 1, 'GDP_billions_chained2009'] > gdp.at[i + 2, 'GDP_billions_chained2009']):\n",
    "            lst.append(gdp.at[i + 1, 'quarter'])\n",
    "    return lst[0]\n",
    "    \n",
    "get_recession_start()"
   ]
  },
  {
   "cell_type": "code",
   "execution_count": null,
   "metadata": {
    "umich_part_id": "023",
    "umich_partlist_id": "004"
   },
   "outputs": [],
   "source": [
    "def get_recession_end():\n",
    "    '''Returns the year and quarter of the recession end time as a \n",
    "    string value in a format such as 2005q3'''\n",
    "    gdp = pd.read_excel('gdplev.xls',skiprows = 7)\n",
    "        #find index : gdp[gdp['Unnamed: 4'] == '2000q1']\n",
    "    gdp=gdp[gdp.index >= 212]\n",
    "    gdp = gdp[['Unnamed: 4','Unnamed: 5','Unnamed: 6']]\n",
    "    gdp.columns = ['quarter','GDP_billions_current','GDP_billions_chained2009' ]\n",
    "    gdp.reset_index(inplace = True, drop = True)\n",
    "    \n",
    "    #gdp[gdp['quarter'] == get_recession_start()]\n",
    "    gdp = gdp[gdp.index > list(gdp[gdp['quarter'] == get_recession_start()].index.get_values())[0]]\n",
    "    gdp.reset_index(inplace=True,drop=True)\n",
    "    lst = []\n",
    "    for i in np.arange(0,len(gdp) - 2):\n",
    "        if (gdp.at[i, 'GDP_billions_chained2009'] < gdp.at[i +1, 'GDP_billions_chained2009']) & (gdp.at[i + 1, 'GDP_billions_chained2009'] < gdp.at[i + 2, 'GDP_billions_chained2009']):\n",
    "            lst.append(gdp.at[i+2, 'quarter'])\n",
    "    \n",
    "    return lst[0] #gdp#list(gdp[gdp['quarter'] == get_recession_start()].index.get_values())[0]\n",
    "get_recession_end()"
   ]
  },
  {
   "cell_type": "code",
   "execution_count": null,
   "metadata": {
    "umich_part_id": "024",
    "umich_partlist_id": "004"
   },
   "outputs": [],
   "source": [
    "def get_recession_bottom():\n",
    "    '''Returns the year and quarter of the recession bottom time as a \n",
    "    string value in a format such as 2005q3'''\n",
    "    \n",
    "    gdp = pd.read_excel('gdplev.xls',skiprows = 7)\n",
    "        #find index : gdp[gdp['Unnamed: 4'] == '2000q1']\n",
    "    gdp=gdp[gdp.index >= 212]\n",
    "    gdp = gdp[['Unnamed: 4','Unnamed: 5','Unnamed: 6']]\n",
    "    gdp.columns = ['quarter','GDP_billions_current','GDP_billions_chained2009' ]\n",
    "    gdp.reset_index(inplace = True, drop = True)\n",
    "    \n",
    "    \n",
    "    gdp = gdp[gdp.index >= list(gdp[gdp['quarter'] == get_recession_start()].index.get_values())[0]]\n",
    "    gdp = gdp[gdp.index <= list(gdp[gdp['quarter'] == get_recession_end()].index.get_values())[0]]\n",
    "    \n",
    "    return gdp['quarter'][gdp['GDP_billions_chained2009'].idxmin()]\n",
    "get_recession_bottom()"
   ]
  },
  {
   "cell_type": "code",
   "execution_count": null,
   "metadata": {
    "scrolled": true,
    "umich_part_id": "025",
    "umich_partlist_id": "004"
   },
   "outputs": [],
   "source": [
    "def convert_housing_data_to_quarters():\n",
    "\n",
    "\n",
    "    '''Converts the housing data to quarters and returns it as mean \n",
    "    values in a dataframe. This dataframe should be a dataframe with\n",
    "    columns for 2000q1 through 2016q3, and should have a multi-index\n",
    "    in the shape of [\"State\",\"RegionName\"].\n",
    "    \n",
    "    Note: Quarters are defined in the assignment description, they are\n",
    "    not arbitrary three month periods.\n",
    "    \n",
    "    The resulting dataframe should have 67 columns, and 10,730 rows.\n",
    "    '''\n",
    "    \n",
    "    housedf = pd.read_csv('City_Zhvi_AllHomes.csv')\n",
    "    returndf = housedf[['RegionName','State']]\n",
    "    #inv_map = {v: k for k, v in states.keys()}\n",
    "    returndf['State2'] = returndf.State.map(states)\n",
    "    returndf.drop(['State'],axis=1,inplace = True)\n",
    "    returndf.rename(columns = {'State2': 'State'},inplace = True)\n",
    "    \n",
    "    #print(returndf)\n",
    "    i = 2000\n",
    "    lis = np.arange(2000,2016)\n",
    "    rng = [format(x) for x in lis]\n",
    "    \n",
    "    #for i in housedf.columns[housedf.columns.str.startswith('2000')]:\n",
    "    for i in rng:\n",
    "        df = housedf[housedf.columns[housedf.columns.str.startswith(i)]]\n",
    "        returndf[i +'q1'] = df[df.columns[:3]].mean(axis = 1,skipna=True)\n",
    "        returndf[i +'q2'] = df[df.columns[3:6]].mean(axis = 1,skipna=True)\n",
    "        returndf[i +'q3'] = df[df.columns[6:9]].mean(axis = 1,skipna=True)\n",
    "        returndf[i +'q4'] = df[df.columns[9:12]].mean(axis = 1,skipna=True)\n",
    "    \n",
    "    i = '2016' \n",
    "    df = housedf[housedf.columns[housedf.columns.str.startswith(i)]]\n",
    "    returndf[i +'q1'] = df[df.columns[:3]].mean(axis = 1,skipna=True)\n",
    "    returndf[i +'q2'] = df[df.columns[3:6]].mean(axis = 1,skipna=True)\n",
    "    returndf[i +'q3'] = df[df.columns[6:8]].mean(axis = 1,skipna=True)\n",
    "    #returndf[i +'q4'] = np.nan\n",
    "\n",
    "    \n",
    "    returndf.set_index(['State', 'RegionName'], inplace=True, drop = True)\n",
    "    testdf = housedf[housedf.columns[housedf.columns.str.startswith('2010')]]# returndf\n",
    "    \n",
    "\n",
    "    return returndf#testdf[testdf.columns[6:9]].mean(axis = 1,skipna=True)\n",
    "convert_housing_data_to_quarters()"
   ]
  },
  {
   "cell_type": "code",
   "execution_count": null,
   "metadata": {
    "collapsed": true
   },
   "outputs": [],
   "source": [
    "#convert_housing_data_to_quarters().loc[[('Ohio','Akron'),('Ohio','Dayton')]].loc[:,['2010q3','2015q2','2016q4']]\n",
    "#convert_housing_data_to_quarters()['2010q3'][convert_housing_data_to_quarters()['2010q3'].isnull() == True]\n",
    "#convert_housing_data_to_quarters().loc[\"TX\"].loc[\"Austin\"].loc[\"2010q3\"] "
   ]
  },
  {
   "cell_type": "code",
   "execution_count": null,
   "metadata": {
    "scrolled": true,
    "umich_part_id": "026",
    "umich_partlist_id": "004"
   },
   "outputs": [],
   "source": [
    "#from scipy import stats\n",
    "#stats.ttest_ind?\n",
    "def run_ttest():\n",
    "    '''First creates new data showing the decline or growth of housing prices\n",
    "    between the recession start and the recession bottom. Then runs a ttest\n",
    "    comparing the university town values to the non-university towns values, \n",
    "    return whether the alternative hypothesis (that the two groups are the same)\n",
    "    is true or not as well as the p-value of the confidence. \n",
    "    \n",
    "    Return the tuple (different, p, better) where different=True if the t-test is\n",
    "    True at a p<0.01 (we reject the null hypothesis), or different=False if \n",
    "    otherwise (we cannot reject the null hypothesis). The variable p should\n",
    "    be equal to the exact p value returned from scipy.stats.ttest_ind(). The\n",
    "    value for better should be either \"university town\" or \"non-university town\"\n",
    "    depending on which has a lower mean price ratio (which is equivilent to a\n",
    "    reduced market loss).'''\n",
    "    \n",
    "    \n",
    "    newdf = convert_housing_data_to_quarters().loc[:,['2008q2',get_recession_start(), get_recession_bottom()]]\n",
    "    #newdf['Diff'] = newdf[get_recession_start()]\n",
    "    \n",
    "    # \n",
    "    q1df = get_list_of_university_towns()\n",
    "    #q1df['stateAb'] = ''\n",
    "    #inv_map = {v: k for k, v in states.items()}\n",
    "    #q1df['stateAb'] = q1df.State.map(inv_map)\n",
    "\n",
    "       \n",
    "    unidf = pd.merge(q1df, newdf, how = 'inner', left_on = ['State','RegionName'],\n",
    "                     right_index = True, )\n",
    "    alldf = pd.merge(q1df, newdf, how = 'right', left_on = ['State','RegionName'],\n",
    "                     right_index = True)\n",
    "    #nonunidf = alldf[alldf['State'].isnull() == True]\n",
    "    nonunidf = alldf[~alldf.index.isin(unidf.index)]\n",
    "    #nonunidf = alldf.subtract(unidf, axis = 'index')\n",
    "    #DataFrame.subtract(other, axis='columns', level=None, fill_value=None)[source]\n",
    "    \n",
    "    nonunidf.reset_index(drop = True, inplace = True)\n",
    "    \n",
    "    #quarter_before_recession/recession_bottom\n",
    "    \n",
    "    unidf['ratio'] =  unidf['2008q2']/unidf[get_recession_bottom()]\n",
    "    nonunidf['ratio'] =  nonunidf['2008q2']/nonunidf[get_recession_bottom()]\n",
    "\n",
    "    from scipy import stats\n",
    "    statistic,p = stats.ttest_ind(unidf['ratio'], nonunidf['ratio'], nan_policy = 'omit')\n",
    "    different = True\n",
    "    \n",
    "    unimean = unidf['ratio'].mean(skipna=True)\n",
    "    nonunimean = nonunidf['ratio'].mean(skipna=True)\n",
    "    if unimean > nonunimean:\n",
    "        better = 'non-university town'\n",
    "    else:\n",
    "        better = 'university town'\n",
    "    return different, p, better\n",
    "\n",
    "run_ttest()"
   ]
  }
 ],
 "metadata": {
  "coursera": {
   "course_slug": "python-data-analysis",
   "graded_item_id": "Il9Fx",
   "launcher_item_id": "TeDW0",
   "part_id": "WGlun"
  },
  "kernelspec": {
   "display_name": "Python 3",
   "language": "python",
   "name": "python3"
  },
  "language_info": {
   "codemirror_mode": {
    "name": "ipython",
    "version": 3
   },
   "file_extension": ".py",
   "mimetype": "text/x-python",
   "name": "python",
   "nbconvert_exporter": "python",
   "pygments_lexer": "ipython3",
   "version": "3.6.3"
  },
  "umich": {
   "id": "Assignment 4",
   "version": "1.1"
  }
 },
 "nbformat": 4,
 "nbformat_minor": 1
}
